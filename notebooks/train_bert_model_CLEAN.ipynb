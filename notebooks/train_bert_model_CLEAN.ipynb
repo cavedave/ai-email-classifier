{
 "cells": [
  {
   "cell_type": "markdown",
   "metadata": {},
   "source": [
    "# 🚀 BERT Email Classifier Training Notebook\n",
    "\n",
    "This notebook trains a BERT model to classify emails into different categories using our synthetic dataset."
   ]
  },
  {
   "cell_type": "markdown",
   "metadata": {},
   "source": [
    "## Load Required Packages\n",
    "\n",
    "Run this cell first to load all necessary dependencies."
   ]
  },
  {
   "cell_type": "code",
   "execution_count": 1,
   "metadata": {},
   "outputs": [
    {
     "name": "stdout",
     "output_type": "stream",
     "text": [
      "Torch: 2.7.1\n",
      "Transformers: 4.55.2\n",
      "Pandas: 2.3.1\n",
      "CUDA: False\n",
      "MPS: True\n"
     ]
    }
   ],
   "source": [
    "import torch, transformers, sklearn, pandas as pd, seaborn\n",
    "print(\"Torch:\", torch.__version__)\n",
    "print(\"Transformers:\", transformers.__version__)\n",
    "print(\"Pandas:\", pd.__version__)\n",
    "print(\"CUDA:\", torch.cuda.is_available())\n",
    "print(\"MPS:\", torch.backends.mps.is_available())"
   ]
  },
  {
   "cell_type": "markdown",
   "metadata": {},
   "source": [
    "## 🔧 Import Libraries"
   ]
  },
  {
   "cell_type": "code",
   "execution_count": 2,
   "metadata": {},
   "outputs": [
    {
     "name": "stdout",
     "output_type": "stream",
     "text": [
      "✅ All libraries imported successfully!\n"
     ]
    }
   ],
   "source": [
    "import pandas as pd\n",
    "import numpy as np\n",
    "import matplotlib.pyplot as plt\n",
    "import seaborn as sns\n",
    "from sklearn.model_selection import train_test_split\n",
    "from sklearn.metrics import classification_report, confusion_matrix, accuracy_score, f1_score\n",
    "from sklearn.preprocessing import LabelEncoder\n",
    "import warnings\n",
    "import datasets\n",
    "warnings.filterwarnings('ignore')\n",
    "\n",
    "# Transformers and datasets\n",
    "from transformers import AutoTokenizer, AutoModelForSequenceClassification, TrainingArguments, Trainer\n",
    "\n",
    "# Disable wandb logging\n",
    "import os\n",
    "os.environ['WANDB_DISABLED'] = 'true'\n",
    "\n",
    "print('✅ All libraries imported successfully!')"
   ]
  },
  {
   "cell_type": "code",
   "execution_count": 3,
   "metadata": {},
   "outputs": [
    {
     "name": "stdout",
     "output_type": "stream",
     "text": [
      "Pre-downloading BERT model and tokenizer...\n",
      "This will take a few minutes on first run, but will be cached locally.\n",
      "Downloading tokenizer...\n",
      "✅ Tokenizer downloaded: distilbert-base-uncased\n",
      "Downloading BERT model...\n",
      "This may take 2-5 minutes depending on your internet connection...\n"
     ]
    },
    {
     "name": "stderr",
     "output_type": "stream",
     "text": [
      "Some weights of DistilBertForSequenceClassification were not initialized from the model checkpoint at distilbert-base-uncased and are newly initialized: ['classifier.bias', 'classifier.weight', 'pre_classifier.bias', 'pre_classifier.weight']\n",
      "You should probably TRAIN this model on a down-stream task to be able to use it for predictions and inference.\n"
     ]
    },
    {
     "name": "stdout",
     "output_type": "stream",
     "text": [
      "Model downloaded: distilbert-base-uncased\n",
      "Model has 6 output classes\n",
      "\n",
      "Pre-download complete! The model is now cached locally.\n",
      "You can now work on other cells while this downloads in the background.\n",
      "Cache location: ~/.cache/huggingface/hub/\n"
     ]
    }
   ],
   "source": [
    "\n",
    "# Pre-download BERT model and tokenizer\n",
    "print('Pre-downloading BERT model and tokenizer...')\n",
    "print('This will take a few minutes on first run, but will be cached locally.')\n",
    "\n",
    "model_name = 'distilbert-base-uncased'\n",
    "\n",
    "# Download tokenizer (small, fast)\n",
    "print('Downloading tokenizer...')\n",
    "tokenizer = AutoTokenizer.from_pretrained(model_name)\n",
    "print(f'✅ Tokenizer downloaded: {model_name}')\n",
    "\n",
    "# Download model (larger, slower)\n",
    "print('Downloading BERT model...')\n",
    "print('This may take 2-5 minutes depending on your internet connection...')\n",
    "model = AutoModelForSequenceClassification.from_pretrained(\n",
    "    model_name, \n",
    "    num_labels=6  # We know we have 6 categories\n",
    ")\n",
    "print(f'Model downloaded: {model_name}')\n",
    "print(f'Model has {model.num_labels} output classes')\n",
    "\n",
    "# Cache is now stored locally - future runs will be instant!\n",
    "print('\\nPre-download complete! The model is now cached locally.')\n",
    "print('You can now work on other cells while this downloads in the background.')\n",
    "print('Cache location: ~/.cache/huggingface/hub/')"
   ]
  },
  {
   "cell_type": "markdown",
   "metadata": {},
   "source": [
    "This needs to be run at home."
   ]
  },
  {
   "cell_type": "markdown",
   "metadata": {},
   "source": [
    "## STOP HERE UNTIL WORKSHOP"
   ]
  },
  {
   "cell_type": "markdown",
   "metadata": {},
   "source": [
    "## 🎮 GPU Detection & Setup"
   ]
  },
  {
   "cell_type": "markdown",
   "metadata": {},
   "source": [
    "GPU's are an awful lot faster. Even on small models like we use. We want to find what GPU is present and use that."
   ]
  },
  {
   "cell_type": "code",
   "execution_count": 4,
   "metadata": {},
   "outputs": [
    {
     "name": "stdout",
     "output_type": "stream",
     "text": [
      "Using Apple MPS GPU (Metal Performance Shaders)\n",
      "PyTorch version: 2.7.1\n",
      "Using device: mps\n"
     ]
    }
   ],
   "source": [
    "import torch\n",
    "\n",
    "# Detect and set up GPU\n",
    "if torch.cuda.is_available():\n",
    "    device = torch.device('cuda')\n",
    "    print(f'Using CUDA GPU: {torch.cuda.get_device_name(0)}')\n",
    "    print(f'GPU Memory: {torch.cuda.get_device_properties(0).total_memory / 1024**3:.1f} GB')\n",
    "elif torch.backends.mps.is_available():\n",
    "    device = torch.device('mps')\n",
    "    print('Using Apple MPS GPU (Metal Performance Shaders)')\n",
    "else:\n",
    "    device = torch.device('cpu')\n",
    "    print('No GPU found — using CPU (training will be slower)')\n",
    "\n",
    "print(f'PyTorch version: {torch.__version__}')\n",
    "print(f'Using device: {device}')"
   ]
  },
  {
   "cell_type": "markdown",
   "metadata": {},
   "source": [
    "## 📊 Load and Preprocess Data"
   ]
  },
  {
   "cell_type": "markdown",
   "metadata": {},
   "source": [
    "You need to get the dataset and be able to load it. This data is in the github. It should find it if you cloned the github but you can copy it in otherwise."
   ]
  },
  {
   "cell_type": "code",
   "execution_count": 5,
   "metadata": {},
   "outputs": [
    {
     "name": "stdout",
     "output_type": "stream",
     "text": [
      "Loading dataset...\n",
      "Dataset loaded! Shape: (948, 4)\n",
      "Total emails: 948\n",
      "Categories: 6\n",
      "\n",
      "Category distribution:\n",
      "Label\n",
      "CarBreakdown     160\n",
      "CarTheft         160\n",
      "CarRenewal       160\n",
      "CarCrash         160\n",
      "CarWindshield    160\n",
      "Other            148\n",
      "Name: count, dtype: int64\n"
     ]
    }
   ],
   "source": [
    "# Load the complete dataset\n",
    "print('Loading dataset...')\n",
    "df = pd.read_csv('../data/complete_dataset_augmented.csv')\n",
    "print(f'Dataset loaded! Shape: {df.shape}')\n",
    "print(f'Total emails: {len(df)}')\n",
    "print(f'Categories: {df[\"Label\"].nunique()}')\n",
    "print('\\nCategory distribution:')\n",
    "print(df['Label'].value_counts())"
   ]
  },
  {
   "cell_type": "markdown",
   "metadata": {},
   "source": [
    "Make the data set by combining all the data text we have. and give the data labels.\n",
    "then make training and test sets"
   ]
  },
  {
   "cell_type": "markdown",
   "metadata": {},
   "source": [
    "## 🧠 BERT Model Setup"
   ]
  },
  {
   "cell_type": "code",
   "execution_count": 6,
   "metadata": {},
   "outputs": [
    {
     "name": "stdout",
     "output_type": "stream",
     "text": [
      "Data preprocessing...\n",
      "Combined text created. Sample length: 324 chars\n",
      "Labels encoded. Classes: ['CarBreakdown' 'CarCrash' 'CarRenewal' 'CarTheft' 'CarWindshield' 'Other']\n",
      "Data split complete:\n",
      "   Training: {len(X_train)} samples\n",
      "   Testing: {len(X_test)} samples\n",
      "   Classes: {len(label_encoder.classes_)}\n"
     ]
    }
   ],
   "source": [
    "# Data preprocessing\n",
    "print('Data preprocessing...')\n",
    "\n",
    "# Combine subject and message\n",
    "df['text'] = df['Subject'] + ' ' + df['Message']\n",
    "print(f'Combined text created. Sample length: {len(df[\"text\"].iloc[0])} chars')\n",
    "\n",
    "# Encode labels\n",
    "label_encoder = LabelEncoder()\n",
    "df['label_encoded'] = label_encoder.fit_transform(df['Label'])\n",
    "print(f'Labels encoded. Classes: {label_encoder.classes_}')\n",
    "\n",
    "# Split data\n",
    "X_train, X_test, y_train, y_test = train_test_split(\n",
    "    df['text'], df['label_encoded'], \n",
    "    test_size=0.2, random_state=42, stratify=df['label_encoded']\n",
    ")\n",
    "\n",
    "print('Data split complete:')\n",
    "print('   Training: {len(X_train)} samples')\n",
    "print('   Testing: {len(X_test)} samples')\n",
    "print('   Classes: {len(label_encoder.classes_)}')"
   ]
  },
  {
   "cell_type": "code",
   "execution_count": 7,
   "metadata": {},
   "outputs": [
    {
     "name": "stderr",
     "output_type": "stream",
     "text": [
      "Some weights of DistilBertForSequenceClassification were not initialized from the model checkpoint at distilbert-base-uncased and are newly initialized: ['classifier.bias', 'classifier.weight', 'pre_classifier.bias', 'pre_classifier.weight']\n",
      "You should probably TRAIN this model on a down-stream task to be able to use it for predictions and inference.\n"
     ]
    },
    {
     "name": "stdout",
     "output_type": "stream",
     "text": [
      "🧠 Setting up BERT model...\n",
      "Number of labels detected: 6\n",
      "�� Updating model for your specific number of labels...\n",
      "Model updated with 6 output classes\n",
      "Model moved to mps\n"
     ]
    }
   ],
   "source": [
    "# Setup BERT model (already downloaded in pre-download cell)\n",
    "print('🧠 Setting up BERT model...')\n",
    "\n",
    "# Get number of labels from the data\n",
    "num_labels = len(label_encoder.classes_)\n",
    "print(f'Number of labels detected: {num_labels}')\n",
    "\n",
    "# Update model to match the number of labels in your data\n",
    "print('Updating model for your specific number of labels...')\n",
    "model = AutoModelForSequenceClassification.from_pretrained(\n",
    "    'distilbert-base-uncased', \n",
    "    num_labels=num_labels\n",
    ")\n",
    "print(f'Model updated with {num_labels} output classes')\n",
    "\n",
    "# Move model to device\n",
    "model = model.to(device)\n",
    "print(f'Model moved to {device}')"
   ]
  },
  {
   "cell_type": "markdown",
   "metadata": {},
   "source": [
    "## 📝 Data Tokenization"
   ]
  },
  {
   "cell_type": "markdown",
   "metadata": {},
   "source": [
    "Tokenisation means putting the words present into the format that a vector system like an LLM can handle. "
   ]
  },
  {
   "cell_type": "code",
   "execution_count": 8,
   "metadata": {},
   "outputs": [],
   "source": [
    "from datasets import Dataset \n"
   ]
  },
  {
   "cell_type": "code",
   "execution_count": 9,
   "metadata": {},
   "outputs": [
    {
     "name": "stdout",
     "output_type": "stream",
     "text": [
      "Tokenizing data...\n"
     ]
    },
    {
     "data": {
      "application/vnd.jupyter.widget-view+json": {
       "model_id": "6d685f97126f4dcc9132bde325e26ac3",
       "version_major": 2,
       "version_minor": 0
      },
      "text/plain": [
       "Map:   0%|          | 0/758 [00:00<?, ? examples/s]"
      ]
     },
     "metadata": {},
     "output_type": "display_data"
    },
    {
     "data": {
      "application/vnd.jupyter.widget-view+json": {
       "model_id": "c4ed2c88d9f346d492e8251b21e7189e",
       "version_major": 2,
       "version_minor": 0
      },
      "text/plain": [
       "Map:   0%|          | 0/190 [00:00<?, ? examples/s]"
      ]
     },
     "metadata": {},
     "output_type": "display_data"
    },
    {
     "name": "stdout",
     "output_type": "stream",
     "text": [
      "Data tokenized successfully!\n",
      "   Training samples: 758\n",
      "   Test samples: 190\n"
     ]
    }
   ],
   "source": [
    "# Tokenize the data\n",
    "print('Tokenizing data...')\n",
    "\n",
    "def tokenize_function(examples):\n",
    "    return tokenizer(examples['text'], padding='max_length', truncation=True, max_length=512)\n",
    "\n",
    "# Create datasets for HuggingFace\n",
    "train_ds = pd.DataFrame({'text': X_train, 'label': y_train})\n",
    "test_ds = pd.DataFrame({'text': X_test, 'label': y_test})\n",
    "\n",
    "# Convert to HuggingFace Dataset format\n",
    "train_dataset = Dataset.from_pandas(train_ds)\n",
    "test_dataset = Dataset.from_pandas(test_ds)\n",
    "\n",
    "# Tokenize\n",
    "train_dataset = train_dataset.map(tokenize_function, batched=True)\n",
    "test_dataset = test_dataset.map(tokenize_function, batched=True)\n",
    "\n",
    "print('Data tokenized successfully!')\n",
    "print(f'   Training samples: {len(train_dataset)}')\n",
    "print(f'   Test samples: {len(test_dataset)}')"
   ]
  },
  {
   "cell_type": "markdown",
   "metadata": {},
   "source": [
    "## 🎯 Training Configuration"
   ]
  },
  {
   "cell_type": "markdown",
   "metadata": {},
   "source": [
    "These settings are an art but the defaults like below are usually good enough for a sanity check. \n",
    "The F1 measure is a hard one to explain to the boss but its simple to read. "
   ]
  },
  {
   "cell_type": "code",
   "execution_count": 10,
   "metadata": {},
   "outputs": [
    {
     "name": "stderr",
     "output_type": "stream",
     "text": [
      "Using the `WANDB_DISABLED` environment variable is deprecated and will be removed in v5. Use the --report_to flag to control the integrations used for logging result (for instance --report_to none).\n"
     ]
    },
    {
     "name": "stdout",
     "output_type": "stream",
     "text": [
      "📦 Using batch size: 8\n",
      "Training configuration set!\n"
     ]
    }
   ],
   "source": [
    "# Define compute metrics function\n",
    "def compute_metrics(eval_pred):\n",
    "    predictions, labels = eval_pred\n",
    "    predictions = np.argmax(predictions, axis=1)\n",
    "    return {\n",
    "        'accuracy': accuracy_score(labels, predictions),\n",
    "        'f1': f1_score(labels, predictions, average='weighted')\n",
    "    }\n",
    "\n",
    "# Set batch size based on device\n",
    "batch_size = 16 if torch.cuda.is_available() else 8\n",
    "print(f'📦 Using batch size: {batch_size}')\n",
    "\n",
    "# Training arguments\n",
    "training_args = TrainingArguments(\n",
    "    output_dir=\"./bert-email-classifier\",\n",
    "    do_train=True,\n",
    "    eval_strategy=\"epoch\",\n",
    "    per_device_train_batch_size=batch_size,\n",
    "    per_device_eval_batch_size=batch_size,\n",
    "    num_train_epochs=5,\n",
    "    save_strategy=\"epoch\",\n",
    "    logging_dir=\"./logs\",\n",
    "    load_best_model_at_end=True,\n",
    "    metric_for_best_model=\"f1\",\n",
    "    greater_is_better=True,\n",
    "    warmup_steps=100,\n",
    "    weight_decay=0.01,\n",
    "    logging_steps=50,\n",
    "    save_total_limit=2,\n",
    "    # GPU optimizations\n",
    "    dataloader_pin_memory=True if torch.cuda.is_available() else False,\n",
    "    fp16=torch.cuda.is_available(), # Use mixed precision on GPU\n",
    "    gradient_accumulation_steps=2 if torch.cuda.is_available() else 1\n",
    ")\n",
    "\n",
    "print('Training configuration set!')"
   ]
  },
  {
   "cell_type": "markdown",
   "metadata": {},
   "source": [
    "## 🚀 Model Training"
   ]
  },
  {
   "cell_type": "markdown",
   "metadata": {},
   "source": [
    "This takes a while. Unless you have a good machine. So run this and take a break"
   ]
  },
  {
   "cell_type": "code",
   "execution_count": 11,
   "metadata": {},
   "outputs": [
    {
     "name": "stdout",
     "output_type": "stream",
     "text": [
      "Using Apple MPS GPU (Metal Performance Shaders)\n"
     ]
    },
    {
     "data": {
      "text/html": [
       "\n",
       "    <div>\n",
       "      \n",
       "      <progress value='475' max='475' style='width:300px; height:20px; vertical-align: middle;'></progress>\n",
       "      [475/475 10:12, Epoch 5/5]\n",
       "    </div>\n",
       "    <table border=\"1\" class=\"dataframe\">\n",
       "  <thead>\n",
       " <tr style=\"text-align: left;\">\n",
       "      <th>Epoch</th>\n",
       "      <th>Training Loss</th>\n",
       "      <th>Validation Loss</th>\n",
       "      <th>Accuracy</th>\n",
       "      <th>F1</th>\n",
       "    </tr>\n",
       "  </thead>\n",
       "  <tbody>\n",
       "    <tr>\n",
       "      <td>1</td>\n",
       "      <td>1.682700</td>\n",
       "      <td>0.045222</td>\n",
       "      <td>1.000000</td>\n",
       "      <td>1.000000</td>\n",
       "    </tr>\n",
       "    <tr>\n",
       "      <td>2</td>\n",
       "      <td>0.017100</td>\n",
       "      <td>0.004250</td>\n",
       "      <td>1.000000</td>\n",
       "      <td>1.000000</td>\n",
       "    </tr>\n",
       "    <tr>\n",
       "      <td>3</td>\n",
       "      <td>0.004400</td>\n",
       "      <td>0.002357</td>\n",
       "      <td>1.000000</td>\n",
       "      <td>1.000000</td>\n",
       "    </tr>\n",
       "    <tr>\n",
       "      <td>4</td>\n",
       "      <td>0.002800</td>\n",
       "      <td>0.001761</td>\n",
       "      <td>1.000000</td>\n",
       "      <td>1.000000</td>\n",
       "    </tr>\n",
       "    <tr>\n",
       "      <td>5</td>\n",
       "      <td>0.002300</td>\n",
       "      <td>0.001603</td>\n",
       "      <td>1.000000</td>\n",
       "      <td>1.000000</td>\n",
       "    </tr>\n",
       "  </tbody>\n",
       "</table><p>"
      ],
      "text/plain": [
       "<IPython.core.display.HTML object>"
      ]
     },
     "metadata": {},
     "output_type": "display_data"
    },
    {
     "name": "stdout",
     "output_type": "stream",
     "text": [
      "Training complete!\n"
     ]
    }
   ],
   "source": [
    "# Initialize trainer\n",
    "trainer = Trainer(\n",
    "    model=model,\n",
    "    args=training_args,\n",
    "    train_dataset=train_dataset,\n",
    "    eval_dataset=test_dataset,\n",
    "    compute_metrics=compute_metrics,\n",
    ")\n",
    "\n",
    "# Detect and set up GPU\n",
    "if torch.cuda.is_available():\n",
    "    device = torch.device('cuda')\n",
    "    print(f'Using CUDA GPU: {torch.cuda.get_device_name(0)}')\n",
    "    print(f'GPU Memory: {torch.cuda.get_device_properties(0).total_memory / 1024**3:.1f} GB')\n",
    "elif torch.backends.mps.is_available():\n",
    "    device = torch.device('mps')\n",
    "    print('Using Apple MPS GPU (Metal Performance Shaders)')\n",
    "else:\n",
    "    device = torch.device('cpu')\n",
    "    print('No GPU found — using CPU (training will be slower)')\n",
    "# Train the model\n",
    "trainer.train()\n",
    "print('Training complete!')"
   ]
  },
  {
   "cell_type": "markdown",
   "metadata": {},
   "source": [
    "## 📊 Model Evaluation"
   ]
  },
  {
   "cell_type": "markdown",
   "metadata": {},
   "source": [
    "This evaluation accuracy is too high. It is because it is a fake dataset. \n",
    "\n",
    "We will collect enough examples in this workshop to make the dataset more realistic."
   ]
  },
  {
   "cell_type": "code",
   "execution_count": 16,
   "metadata": {},
   "outputs": [
    {
     "name": "stdout",
     "output_type": "stream",
     "text": [
      "📊 Evaluating model...\n"
     ]
    },
    {
     "data": {
      "text/html": [],
      "text/plain": [
       "<IPython.core.display.HTML object>"
      ]
     },
     "metadata": {},
     "output_type": "display_data"
    },
    {
     "name": "stdout",
     "output_type": "stream",
     "text": [
      "\n",
      "📈 Evaluation Results:\n",
      "   eval_loss: 0.0065\n",
      "   eval_accuracy: 1.0000\n",
      "   eval_f1: 1.0000\n",
      "   eval_runtime: 6.6009\n",
      "   eval_samples_per_second: 28.7840\n",
      "   eval_steps_per_second: 3.6360\n",
      "   epoch: 5.0000\n"
     ]
    }
   ],
   "source": [
    "# Evaluate the model\n",
    "print('📊 Evaluating model...')\n",
    "results = trainer.evaluate()\n",
    "print('\\n📈 Evaluation Results:')\n",
    "for key, value in results.items():\n",
    "    print(f'   {key}: {value:.4f}')"
   ]
  },
  {
   "cell_type": "code",
   "execution_count": 17,
   "metadata": {},
   "outputs": [
    {
     "name": "stdout",
     "output_type": "stream",
     "text": [
      "🔮 Making predictions...\n",
      "\n",
      "📋 Classification Report:\n",
      "               precision    recall  f1-score   support\n",
      "\n",
      " CarBreakdown       1.00      1.00      1.00        32\n",
      "     CarCrash       1.00      1.00      1.00        32\n",
      "   CarRenewal       1.00      1.00      1.00        32\n",
      "     CarTheft       1.00      1.00      1.00        32\n",
      "CarWindshield       1.00      1.00      1.00        32\n",
      "        Other       1.00      1.00      1.00        30\n",
      "\n",
      "     accuracy                           1.00       190\n",
      "    macro avg       1.00      1.00      1.00       190\n",
      " weighted avg       1.00      1.00      1.00       190\n",
      "\n",
      "\n",
      "🔍 Confusion Matrix:\n"
     ]
    },
    {
     "data": {
      "image/png": "[encoded data removed]",
      "text/plain": [
       "<Figure size 1000x800 with 2 Axes>"
      ]
     },
     "metadata": {},
     "output_type": "display_data"
    }
   ],
   "source": [
    "# Make predictions on test set\n",
    "print('🔮 Making predictions...')\n",
    "predictions = trainer.predict(test_dataset)\n",
    "pred_labels = np.argmax(predictions.predictions, axis=1)\n",
    "\n",
    "# Classification report\n",
    "print('\\n📋 Classification Report:')\n",
    "print(classification_report(y_test, pred_labels, target_names=label_encoder.classes_))\n",
    "\n",
    "# Confusion matrix\n",
    "print('\\n🔍 Confusion Matrix:')\n",
    "cm = confusion_matrix(y_test, pred_labels)\n",
    "plt.figure(figsize=(10, 8))\n",
    "sns.heatmap(cm, annot=True, fmt='d', cmap='Blues', \n",
    "            xticklabels=label_encoder.classes_, \n",
    "            yticklabels=label_encoder.classes_)\n",
    "plt.title('Confusion Matrix')\n",
    "plt.ylabel('True Label')\n",
    "plt.xlabel('Predicted Label')\n",
    "plt.xticks(rotation=45)\n",
    "plt.yticks(rotation=0)\n",
    "plt.tight_layout()\n",
    "plt.show()"
   ]
  },
  {
   "cell_type": "markdown",
   "metadata": {},
   "source": [
    "## 💾 Save the Model"
   ]
  },
  {
   "cell_type": "code",
   "execution_count": 18,
   "metadata": {},
   "outputs": [
    {
     "name": "stdout",
     "output_type": "stream",
     "text": [
      "Saving model...\n",
      "Model saved to: ../streamlit_app/models/bert_email_classifier\n",
      "Tokenizer saved to: ../streamlit_app/models/tokenizer\n",
      "Label encoder saved to: ../streamlit_app/models/label_encoder.pkl\n",
      "Results saved to: ../streamlit_app/models/training_results.json\n",
      "\n",
      "The model is ready to be used in the Streamlit app!\n"
     ]
    }
   ],
   "source": [
    "# Save the trained model and components\n",
    "print('Saving model...')\n",
    "\n",
    "# Create models directory if it doesn't exist\n",
    "os.makedirs('../streamlit_app/models', exist_ok=True)\n",
    "\n",
    "# Save model\n",
    "model_path = '../streamlit_app/models/bert_email_classifier'\n",
    "trainer.save_model(model_path)\n",
    "print(f'Model saved to: {model_path}')\n",
    "\n",
    "# Save tokenizer\n",
    "tokenizer_path = '../streamlit_app/models/tokenizer'\n",
    "tokenizer.save_pretrained(tokenizer_path)\n",
    "print(f'Tokenizer saved to: {tokenizer_path}')\n",
    "\n",
    "# Save label encoder\n",
    "import pickle\n",
    "label_encoder_path = '../streamlit_app/models/label_encoder.pkl'\n",
    "with open(label_encoder_path, 'wb') as f:\n",
    "    pickle.dump(label_encoder, f)\n",
    "print(f'Label encoder saved to: {label_encoder_path}')\n",
    "\n",
    "# Save training results\n",
    "training_results = {\n",
    "    'model_name': model_name,\n",
    "    'num_classes': num_labels,\n",
    "    'classes': label_encoder.classes_.tolist(),\n",
    "    'evaluation_results': results,\n",
    "    'training_args': training_args.to_dict()\n",
    "}\n",
    "\n",
    "results_path = '../streamlit_app/models/training_results.json'\n",
    "import json\n",
    "with open(results_path, 'w') as f:\n",
    "    json.dump(training_results, f, indent=2)\n",
    "print(f'Results saved to: {results_path}')\n",
    "\n",
    "print('\\nThe model is ready to be used in the Streamlit app!')"
   ]
  },
  {
   "cell_type": "markdown",
   "metadata": {},
   "source": [
    "Just load a model. Is what you want to do next time. When first deploying you will find new examples that should be added to the dataset. But this will reduce over time and you can end up with something like a new model once a sprint. And then later when a system is used a lot it moves back constantly trying to make improvements to it."
   ]
  },
  {
   "cell_type": "code",
   "execution_count": 19,
   "metadata": {},
   "outputs": [
    {
     "ename": "NameError",
     "evalue": "name 'xxx' is not defined",
     "output_type": "error",
     "traceback": [
      "\u001b[0;31m---------------------------------------------------------------------------\u001b[0m",
      "\u001b[0;31mNameError\u001b[0m                                 Traceback (most recent call last)",
      "Cell \u001b[0;32mIn[19], line 1\u001b[0m\n\u001b[0;32m----> 1\u001b[0m \u001b[43mxxx\u001b[49m\n\u001b[1;32m      3\u001b[0m \u001b[38;5;66;03m# Load the saved model and components\u001b[39;00m\n\u001b[1;32m      4\u001b[0m \u001b[38;5;28mprint\u001b[39m(\u001b[38;5;124m'\u001b[39m\u001b[38;5;124mLoading saved model...\u001b[39m\u001b[38;5;124m'\u001b[39m)\n",
      "\u001b[0;31mNameError\u001b[0m: name 'xxx' is not defined"
     ]
    }
   ],
   "source": [
    "Version where we just load the model without the training. \n",
    "But we are not using that now so this is left uncommented to cause a syntax error\n",
    "#\n",
    "\n",
    "\n",
    "# Load the saved model and components\n",
    "print('Loading saved model...')\n",
    "\n",
    "# Load model\n",
    "model_path = '../streamlit_app/models/bert_email_classifier'\n",
    "model = AutoModelForSequenceClassification.from_pretrained(model_path)\n",
    "print(f'Model loaded from: {model_path}')\n",
    "\n",
    "# Load tokenizer\n",
    "tokenizer_path = '../streamlit_app/models/tokenizer'\n",
    "tokenizer = AutoTokenizer.from_pretrained(tokenizer_path)\n",
    "print(f'Tokenizer loaded from: {tokenizer_path}')\n",
    "\n",
    "# Load label encoder\n",
    "import pickle\n",
    "label_encoder_path = '../streamlit_app/models/label_encoder.pkl'\n",
    "with open(label_encoder_path, 'rb') as f:\n",
    "    label_encoder = pickle.load(f)\n",
    "print(f'Label encoder loaded from: {label_encoder_path}')\n",
    "\n",
    "# Move model to device (MPS on your Mac)\n",
    "model = model.to(device)\n",
    "print(f'Model moved to {device}')"
   ]
  },
  {
   "cell_type": "markdown",
   "metadata": {},
   "source": [
    "## User Interface"
   ]
  },
  {
   "cell_type": "markdown",
   "metadata": {},
   "source": [
    "Simple user interface jst to show that one can be made"
   ]
  },
  {
   "cell_type": "code",
   "execution_count": 20,
   "metadata": {},
   "outputs": [
    {
     "name": "stdout",
     "output_type": "stream",
     "text": [
      "🧪 Testing the model with sample emails:\n",
      "\n",
      "Email 1: My car was stolen from the parking lot last night....\n",
      "Predicted: CarTheft\n",
      "Confidence: 0.9890\n",
      "\n",
      "Email 2: I need to renew my car insurance policy before it ...\n",
      "Predicted: CarRenewal\n",
      "Confidence: 0.8601\n",
      "\n",
      "Email 3: My windshield has a large crack and needs to be re...\n",
      "Predicted: CarWindshield\n",
      "Confidence: 0.9747\n",
      "\n",
      "Email 4: My car broke down on the highway and I need roadsi...\n",
      "Predicted: CarBreakdown\n",
      "Confidence: 0.8580\n",
      "\n",
      "Email 5: I was involved in a car accident and need to repor...\n",
      "Predicted: CarCrash\n",
      "Confidence: 0.7634\n"
     ]
    }
   ],
   "source": [
    "# Test the model with some sample emails\n",
    "def predict_email(text):\n",
    "    \"\"\"Predict the category of an email\"\"\"\n",
    "    # Tokenize the input\n",
    "    inputs = tokenizer(\n",
    "        text, \n",
    "        return_tensors=\"pt\", \n",
    "        padding=True, \n",
    "        truncation=True, \n",
    "        max_length=256\n",
    "    )\n",
    "    \n",
    "    # Move inputs to the same device as model\n",
    "    inputs = {k: v.to(device) for k, v in inputs.items()}\n",
    "    \n",
    "    # Get prediction\n",
    "    with torch.no_grad():\n",
    "        outputs = model(**inputs)\n",
    "        predictions = torch.nn.functional.softmax(outputs.logits, dim=-1)\n",
    "        predicted_class = torch.argmax(predictions, dim=-1).item()\n",
    "        confidence = predictions[0][predicted_class].item()\n",
    "    \n",
    "    return label_encoder.classes_[predicted_class], confidence\n",
    "\n",
    "# Test with some sample emails\n",
    "test_emails = [\n",
    "    \"My car was stolen from the parking lot last night. Please help me file a claim.\",\n",
    "    \"I need to renew my car insurance policy before it expires next month.\",\n",
    "    \"My windshield has a large crack and needs to be replaced.\",\n",
    "    \"My car broke down on the highway and I need roadside assistance.\",\n",
    "    \"I was involved in a car accident and need to report it.\"\n",
    "]\n",
    "\n",
    "print(\"🧪 Testing the model with sample emails:\")\n",
    "for i, email in enumerate(test_emails, 1):\n",
    "    predicted_label, confidence = predict_email(email)\n",
    "    print(f\"\\nEmail {i}: {email[:50]}...\")\n",
    "    print(f\"Predicted: {predicted_label}\")\n",
    "    print(f\"Confidence: {confidence:.4f}\")"
   ]
  },
  {
   "cell_type": "code",
   "execution_count": 21,
   "metadata": {},
   "outputs": [
    {
     "data": {
      "text/html": [
       "\n",
       "<style>\n",
       ".ui-container { background: linear-gradient(135deg, #667eea 0%, #764ba2 100%); \n",
       "               padding: 20px; border-radius: 15px; margin: 20px 0; color: white; }\n",
       ".ui-section { background: rgba(255,255,255,0.1); padding: 15px; border-radius: 10px; margin: 15px 0; }\n",
       ".ui-button { background: linear-gradient(45deg, #ff6b6b, #ee5a24); border: none; color: white; \n",
       "            padding: 12px 24px; border-radius: 25px; font-size: 16px; font-weight: bold; }\n",
       ".ui-result { background: rgba(255,255,255,0.95); color: #333; padding: 15px; border-radius: 10px; \n",
       "            margin: 15px 0; border-left: 5px solid #667eea; }\n",
       "</style>\n"
      ],
      "text/plain": [
       "<IPython.core.display.HTML object>"
      ]
     },
     "metadata": {},
     "output_type": "display_data"
    },
    {
     "name": "stdout",
     "output_type": "stream",
     "text": [
      "🎨 Setting up the Email Classification Dashboard...\n"
     ]
    },
    {
     "data": {
      "application/vnd.jupyter.widget-view+json": {
       "model_id": "8ba841cf609242c2bcbf1e2072b076aa",
       "version_major": 2,
       "version_minor": 0
      },
      "text/plain": [
       "VBox(children=(HTML(value='<div class=\"ui-container\"><h1>📧 Email Classification Dashboard</h1></div>'), HTML(v…"
      ]
     },
     "metadata": {},
     "output_type": "display_data"
    },
    {
     "name": "stdout",
     "output_type": "stream",
     "text": [
      "✅ Dashboard loaded! Enter an email and click 'Classify Email' to test it.\n"
     ]
    }
   ],
   "source": [
    "# =============================================================================\n",
    "# SIMPLE NOTEBOOK UI - Copy this into a new cell in your notebook\n",
    "# =============================================================================\n",
    "\n",
    "# Install ipywidgets if needed:\n",
    "# !pip install ipywidgets\n",
    "\n",
    "import ipywidgets as widgets\n",
    "from IPython.display import display, HTML, clear_output\n",
    "\n",
    "# Simple styling\n",
    "display(HTML(\"\"\"\n",
    "<style>\n",
    ".ui-container { background: linear-gradient(135deg, #667eea 0%, #764ba2 100%); \n",
    "               padding: 20px; border-radius: 15px; margin: 20px 0; color: white; }\n",
    ".ui-section { background: rgba(255,255,255,0.1); padding: 15px; border-radius: 10px; margin: 15px 0; }\n",
    ".ui-button { background: linear-gradient(45deg, #ff6b6b, #ee5a24); border: none; color: white; \n",
    "            padding: 12px 24px; border-radius: 25px; font-size: 16px; font-weight: bold; }\n",
    ".ui-result { background: rgba(255,255,255,0.95); color: #333; padding: 15px; border-radius: 10px; \n",
    "            margin: 15px 0; border-left: 5px solid #667eea; }\n",
    "</style>\n",
    "\"\"\"))\n",
    "\n",
    "# Create the UI\n",
    "def create_simple_ui():\n",
    "    # Header\n",
    "    header = widgets.HTML(value='<div class=\"ui-container\"><h1>📧 Email Classification Dashboard</h1></div>')\n",
    "    \n",
    "    # Input fields\n",
    "    subject_input = widgets.Text(placeholder='Enter email subject...', description='Subject:', layout=widgets.Layout(width='100%'))\n",
    "    message_input = widgets.Textarea(placeholder='Enter email message...', description='Message:', layout=widgets.Layout(width='100%', height='100px'))\n",
    "    \n",
    "    # Classify button\n",
    "    classify_button = widgets.Button(description='Classify Email', button_style='success', layout=widgets.Layout(width='200px'))\n",
    "    \n",
    "    # Result display\n",
    "    result_output = widgets.HTML(value='<div class=\"ui-result\">Enter an email above and click \"Classify Email\" to get started!</div>')\n",
    "    \n",
    "    # Classification function\n",
    "    def on_classify_click(b):\n",
    "        subject = subject_input.value.strip()\n",
    "        message = message_input.value.strip()\n",
    "        \n",
    "        if not subject and not message:\n",
    "            result_output.value = '<div class=\"ui-result\" style=\"border-left-color: #ff6b6b;\">⚠️ Please enter either a subject or message.</div>'\n",
    "            return\n",
    "        \n",
    "        try:\n",
    "            # Combine text\n",
    "            full_text = f\"{subject} {message}\".strip()\n",
    "            \n",
    "            # Get prediction using the predict_email function from earlier in the notebook\n",
    "            predicted_label, confidence = predict_email(full_text)\n",
    "            \n",
    "            # Color code based on confidence\n",
    "            if confidence > 0.8:\n",
    "                border_color = \"#28a745\"  # Green\n",
    "            elif confidence > 0.6:\n",
    "                border_color = \"#ffc107\"  # Yellow\n",
    "            else:\n",
    "                border_color = \"#dc3545\"  # Red\n",
    "            \n",
    "            result_html = f\"\"\"\n",
    "            <div class=\"ui-result\" style=\"border-left-color: {border_color};\">\n",
    "                <h4>🎯 Classification Result</h4>\n",
    "                <p><strong>Category:</strong> <span style=\"color: {border_color}; font-weight: bold;\">{predicted_label}</span></p>\n",
    "                <p><strong>Confidence:</strong> {confidence:.1%}</p>\n",
    "                <p><strong>Input:</strong> {full_text[:100]}{'...' if len(full_text) > 100 else ''}</p>\n",
    "            </div>\n",
    "            \"\"\"\n",
    "            \n",
    "            result_output.value = result_html\n",
    "            \n",
    "        except Exception as e:\n",
    "            result_output.value = f'<div class=\"ui-result\" style=\"border-left-color: #dc3545;\"> Error: {str(e)}</div>'\n",
    "    \n",
    "    classify_button.on_click(on_classify_click)\n",
    "    \n",
    "    # Layout\n",
    "    ui = widgets.VBox([\n",
    "        header,\n",
    "        widgets.HTML(value='<div class=\"ui-section\"><h3>🔍 Email Classification</h3></div>'),\n",
    "        subject_input,\n",
    "        message_input,\n",
    "        classify_button,\n",
    "        result_output\n",
    "    ])\n",
    "    \n",
    "    return ui\n",
    "\n",
    "# Display the UI\n",
    "print(\"🎨 Setting up the Email Classification Dashboard...\")\n",
    "ui = create_simple_ui()\n",
    "display(ui)\n",
    "print(\"Dashboard loaded! Enter an email and click 'Classify Email' to test it.\") "
   ]
  },
  {
   "cell_type": "markdown",
   "metadata": {},
   "source": [
    "IT is simple enough to make a training UI that adds values into the csv. But also to add values into the csv yourself."
   ]
  },
  {
   "cell_type": "markdown",
   "metadata": {},
   "source": [
    "a really useful add on is 'heres the most similar three emails to this one'. This allows you to check what the answer was to similar queries which is a lot faster than trying to make up your own answer.\n",
    "\n",
    "Typically you want to the answer to be in the most similar email 50% of the time. Second most similar 20% and third 10%. That still leaves you having to find the answer yourself 20% of the time. But it can be a great saving.\n",
    "\n",
    "A slightly different sentence bert model is good for this k-nearest neighbour task (https://huggingface.co/embaas/sentence-transformers-e5-large-v2)"
   ]
  },
  {
   "cell_type": "markdown",
   "metadata": {},
   "source": [
    "Have an easy way to train "
   ]
  },
  {
   "cell_type": "code",
   "execution_count": 2,
   "metadata": {},
   "outputs": [
    {
     "data": {
      "application/vnd.jupyter.widget-view+json": {
       "model_id": "49bd8314d2684198bc357614cd324573",
       "version_major": 2,
       "version_minor": 0
      },
      "text/plain": [
       "VBox(children=(Text(value='', description='Subject:', placeholder='Email subject'), Textarea(value='', descrip…"
      ]
     },
     "metadata": {},
     "output_type": "display_data"
    }
   ],
   "source": [
    "# Add new training data to dataset\n",
    "\n",
    "from IPython.display import display\n",
    "\n",
    "\n",
    "# Simple form inputs\n",
    "subject = widgets.Text(placeholder='Email subject', description='Subject:')\n",
    "message = widgets.Textarea(placeholder='Email message', description='Message:', height=80)\n",
    "category = widgets.Dropdown(options=['CarBreakdown', 'CarCrash', 'CarRenewal', 'CarTheft', 'CarWindshield', 'Other'], description='Category:')\n",
    "add_btn = widgets.Button(description='Add to Dataset', button_style='success')\n",
    "output = widgets.HTML(value='Fill fields above and click Add')\n",
    "\n",
    "def add_to_dataset(b):\n",
    "    if subject.value and message.value and category.value:\n",
    "        try:\n",
    "            df = pd.read_csv('../data/complete_dataset_augmented.csv')\n",
    "            new_row = {'Subject': subject.value, 'Message': message.value, 'Label': category.value, 'OriginalRowID': f'manual_{len(df)}', 'Source': 'Manual'}\n",
    "            df = pd.concat([df, pd.DataFrame([new_row])], ignore_index=True)\n",
    "            df.to_csv('../data/complete_dataset_augmented.csv', index=False)\n",
    "            subject.value = message.value = ''\n",
    "            category.value = None\n",
    "            output.value = f'Added! Dataset now has {len(df)} examples'\n",
    "        except Exception as e:\n",
    "            output.value = f'Error: {str(e)}'\n",
    "    else:\n",
    "        output.value = 'Please fill all fields'\n",
    "\n",
    "add_btn.on_click(add_to_dataset)\n",
    "display(widgets.VBox([subject, message, category, add_btn, output]))"
   ]
  },
  {
   "cell_type": "markdown",
   "metadata": {},
   "source": [
    "## STOP HERE  for the MOMENT"
   ]
  },
  {
   "cell_type": "markdown",
   "metadata": {},
   "source": [
    "## llm version"
   ]
  },
  {
   "cell_type": "code",
   "execution_count": 1,
   "metadata": {},
   "outputs": [
    {
     "name": "stdout",
     "output_type": "stream",
     "text": [
      "Downloading Qwen2.5-1.5B model...\n",
      "Model ID: Qwen/Qwen2.5-1.5B-Instruct\n",
      "This will download ~3GB model (first time only)\n"
     ]
    }
   ],
   "source": [
    "#config\n",
    "print(\"Downloading Qwen2.5-1.5B model...\")\n",
    "from transformers import AutoTokenizer, AutoModelForCausalLM\n",
    "import torch\n",
    "\n",
    "model_id = \"Qwen/Qwen2.5-1.5B-Instruct\"\n",
    "print(f\"Model ID: {model_id}\")\n",
    "print(\"This will download ~3GB model (first time only)\")"
   ]
  },
  {
   "cell_type": "markdown",
   "metadata": {},
   "source": [
    "load the model. This is an LLM model not a BERT one"
   ]
  },
  {
   "cell_type": "code",
   "execution_count": 2,
   "metadata": {},
   "outputs": [
    {
     "name": "stdout",
     "output_type": "stream",
     "text": [
      "Loading tokenizer...\n",
      "Tokenizer loaded!\n",
      "Using Apple MPS GPU\n",
      "Device: mps\n",
      "Loading model...\n",
      "Model loaded!\n",
      "Model moved to: mps\n",
      "Model device check: mps:0\n"
     ]
    }
   ],
   "source": [
    "#Even a small LLM is big so lets not run this until we have good wifi\n",
    "# Load tokenizer and model\n",
    "print(\"Loading tokenizer...\")\n",
    "tokenizer = AutoTokenizer.from_pretrained(model_id, use_fast=True)\n",
    "print(\"Tokenizer loaded!\")\n",
    "\n",
    "# Detect device\n",
    "if torch.backends.mps.is_available():\n",
    "    device = torch.device('mps')\n",
    "    print(\"Using Apple MPS GPU\")\n",
    "elif torch.cuda.is_available():\n",
    "    device = torch.device('cuda')\n",
    "    print(\"Using NVIDIA CUDA GPU\")\n",
    "else:\n",
    "    device = torch.device('cpu')\n",
    "    print(\"Using CPU\")\n",
    "\n",
    "print(f\"Device: {device}\")\n",
    "\n",
    "# Load model WITHOUT device_map=\"auto\" to control placement\n",
    "print(\"Loading model...\")\n",
    "model = AutoModelForCausalLM.from_pretrained(\n",
    "    model_id,\n",
    "    torch_dtype=torch.bfloat16 if device.type == 'cuda' else torch.float32,\n",
    "    # Remove device_map=\"auto\" to control placement manually\n",
    ")\n",
    "print(\"Model loaded!\")\n",
    "\n",
    "# Move model to our chosen device\n",
    "model = model.to(device)\n",
    "print(f\"Model moved to: {device}\")\n",
    "\n",
    "# Verify device placement\n",
    "print(f\"Model device check: {next(model.parameters()).device}\")"
   ]
  },
  {
   "cell_type": "markdown",
   "metadata": {},
   "source": [
    "make a prompt"
   ]
  },
  {
   "cell_type": "code",
   "execution_count": 3,
   "metadata": {},
   "outputs": [
    {
     "name": "stdout",
     "output_type": "stream",
     "text": [
      "Classification prompt created:\n",
      "You are an email classifier for a car insurance company.\n",
      "Classify emails into exactly one of these categories:\n",
      "- CarBreakdown: engine problems, battery, tow, stranded\n",
      "- CarCrash: accidents, collisions, damage from impact  \n",
      "- CarRenewal: policy renewal, pricing changes\n",
      "- CarTheft: stolen vehicles, break-ins\n",
      "- CarWindshield: glass damage, cracks, chips\n",
      "- Other: general questions not covered above\n",
      "\n",
      "Format your response as: \"Category: Brief explanation\"\n",
      "\n",
      "Examples:\n",
      "User: \"engine died at junction, need a tow\"\n",
      "Assistant: \"CarBreakdown: Engine failure requiring assistance\"\n",
      "\n",
      "User: \"rear ended at lights, no injuries\"\n",
      "Assistant: \"CarCrash: Collision at traffic lights\"\n",
      "\n",
      "User: \"renewal price went up 20%\"\n",
      "Assistant: \"CarRenewal: Policy renewal with price increase\"\n",
      "\n"
     ]
    }
   ],
   "source": [
    "# Define the classification prompt\n",
    "system_prompt = \"\"\"You are an email classifier for a car insurance company.\n",
    "Classify emails into exactly one of these categories:\n",
    "- CarBreakdown: engine problems, battery, tow, stranded\n",
    "- CarCrash: accidents, collisions, damage from impact  \n",
    "- CarRenewal: policy renewal, pricing changes\n",
    "- CarTheft: stolen vehicles, break-ins\n",
    "- CarWindshield: glass damage, cracks, chips\n",
    "- Other: general questions not covered above\n",
    "\n",
    "Format your response as: \"Category: Brief explanation\"\n",
    "\n",
    "Examples:\n",
    "User: \"engine died at junction, need a tow\"\n",
    "Assistant: \"CarBreakdown: Engine failure requiring assistance\"\n",
    "\n",
    "User: \"rear ended at lights, no injuries\"\n",
    "Assistant: \"CarCrash: Collision at traffic lights\"\n",
    "\n",
    "User: \"renewal price went up 20%\"\n",
    "Assistant: \"CarRenewal: Policy renewal with price increase\"\n",
    "\"\"\"\n",
    "\n",
    "print(\"Classification prompt created:\")\n",
    "print(system_prompt)"
   ]
  },
  {
   "cell_type": "code",
   "execution_count": 4,
   "metadata": {},
   "outputs": [
    {
     "name": "stdout",
     "output_type": "stream",
     "text": [
      "🧪 Testing LLM classification:\n",
      "==================================================\n",
      "\n",
      "📧 Email: My car won't start this morning, battery seems dead\n",
      "🤖 LLM Response: Category: CarBreakDown - Battery issues causing the vehicle to fail to start.\n",
      "------------------------------\n"
     ]
    }
   ],
   "source": [
    "# Test the model with a sample email\n",
    "def classify_email_llm(email_text, model, tokenizer, system_prompt):\n",
    "    \"\"\"Classify email using Qwen2.5-1.5B\"\"\"\n",
    "    \n",
    "    # Build the prompt with clear boundaries\n",
    "    prompt = f\"{system_prompt}\\n\\nUser: {email_text}\\nAssistant:\"\n",
    "    \n",
    "    # Tokenize\n",
    "    inputs = tokenizer(prompt, return_tensors=\"pt\").to(model.device)\n",
    "    \n",
    "    # Generate response with strict stopping\n",
    "    with torch.no_grad():\n",
    "        outputs = model.generate(\n",
    "            **inputs,\n",
    "            max_new_tokens=20,        # Limit to prevent long responses\n",
    "            temperature=0.5,\n",
    "            do_sample=True,\n",
    "            pad_token_id=tokenizer.eos_token_id,\n",
    "            eos_token_id=tokenizer.eos_token_id,  # Stop at end token\n",
    "            repetition_penalty=1.2,   # Prevent repetition\n",
    "            no_repeat_ngram_size=3    # Prevent repeating phrases\n",
    "        )\n",
    "    \n",
    "    # Decode response\n",
    "    response = tokenizer.decode(outputs[0], skip_special_tokens=True)\n",
    "    \n",
    "    # Extract just the generated part (after \"Assistant:\")\n",
    "    generated_text = response[len(prompt):].strip()\n",
    "    \n",
    "    # Clean up - remove any extra conversation\n",
    "    if \"\\nUser:\" in generated_text:\n",
    "        generated_text = generated_text.split(\"\\nUser:\")[0].strip()\n",
    "    \n",
    "    return {\n",
    "        'email': email_text,\n",
    "        'generated_text': generated_text,\n",
    "        'full_response': response\n",
    "    }\n",
    "\n",
    "# Test with sample emails\n",
    "test_emails = [\n",
    "    \"My car won't start this morning, battery seems dead\",\n",
    "   # \"I was rear-ended at the traffic lights yesterday\",\n",
    "   # \"My windshield has a crack from a stone on the motorway\"\n",
    "]\n",
    "\n",
    "print(\"🧪 Testing LLM classification:\")\n",
    "print(\"=\" * 50)\n",
    "\n",
    "for email in test_emails:\n",
    "    print(f\"\\n📧 Email: {email}\")\n",
    "    result = classify_email_llm(email, model, tokenizer, system_prompt)\n",
    "    print(f\"🤖 LLM Response: {result['generated_text']}\")\n",
    "    print(\"-\" * 30)"
   ]
  },
  {
   "cell_type": "markdown",
   "metadata": {},
   "source": [
    "When to use an LLM\n",
    "\n",
    "1. Generative task like shown in the table in notebook 1.\n",
    "\n",
    "2. one with subtle context. Bert will tell you if a topic is discussed. But not subtle differences like 'Windscreen breaks are not covered by this policy'\n",
    "\n",
    "3. BERT is still really good and low resouce with classification "
   ]
  },
  {
   "cell_type": "markdown",
   "metadata": {},
   "source": []
  }
 ],
 "metadata": {
  "kernelspec": {
   "display_name": "Python 3 (ipykernel)",
   "language": "python",
   "name": "python3"
  },
  "language_info": {
   "codemirror_mode": {
    "name": "ipython",
    "version": 3
   },
   "file_extension": ".py",
   "mimetype": "text/x-python",
   "name": "python",
   "nbconvert_exporter": "python",
   "pygments_lexer": "ipython3",
   "version": "3.13.2"
  }
 },
 "nbformat": 4,
 "nbformat_minor": 4
}
